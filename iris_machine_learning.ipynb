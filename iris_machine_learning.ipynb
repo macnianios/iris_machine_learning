{
  "nbformat": 4,
  "nbformat_minor": 0,
  "metadata": {
    "colab": {
      "provenance": []
    },
    "kernelspec": {
      "name": "python3",
      "display_name": "Python 3"
    },
    "language_info": {
      "name": "python"
    }
  },
  "cells": [
    {
      "cell_type": "code",
      "execution_count": 1,
      "metadata": {
        "id": "8OGHF2k1iQQq"
      },
      "outputs": [],
      "source": [
        "#import libraries for data manipulation, visualization, machine learning, and ignore warnings\n",
        "import pandas as pd\n",
        "import numpy as np\n",
        "import seaborn as sns\n",
        "import matplotlib.pyplot as plt\n",
        "from sklearn import metrics\n",
        "from sklearn.metrics import mean_squared_error\n",
        "\n",
        "import warnings\n",
        "warnings.filterwarnings('ignore')\n"
      ]
    },
    {
      "cell_type": "markdown",
      "source": [
        "# **OBJECTIVES**\n",
        "Built a machine learning model that can classify an iris flower into one of its three species based on its attributes."
      ],
      "metadata": {
        "id": "Mtwrqa3K32oh"
      }
    },
    {
      "cell_type": "code",
      "source": [
        "#import the dataset \"iris\" .  https://en.wikipedia.org/wiki/Iris_flower_data_set\n",
        "'''The data set consists of 50 samples from each of three species of Iris (Iris setosa, Iris virginica and Iris versicolor).\n",
        "Four features were measured from each sample: the length and the width of the sepals and petals, in centimeters.'''\n",
        "\n",
        "iris_df= sns.load_dataset('iris')\n",
        "iris_df.info()\n",
        "iris_df.head()"
      ],
      "metadata": {
        "colab": {
          "base_uri": "https://localhost:8080/",
          "height": 414
        },
        "id": "9ySphYX-ijOl",
        "outputId": "315c96ee-0456-415b-fa76-5c0f22417b72"
      },
      "execution_count": 2,
      "outputs": [
        {
          "output_type": "stream",
          "name": "stdout",
          "text": [
            "<class 'pandas.core.frame.DataFrame'>\n",
            "RangeIndex: 150 entries, 0 to 149\n",
            "Data columns (total 5 columns):\n",
            " #   Column        Non-Null Count  Dtype  \n",
            "---  ------        --------------  -----  \n",
            " 0   sepal_length  150 non-null    float64\n",
            " 1   sepal_width   150 non-null    float64\n",
            " 2   petal_length  150 non-null    float64\n",
            " 3   petal_width   150 non-null    float64\n",
            " 4   species       150 non-null    object \n",
            "dtypes: float64(4), object(1)\n",
            "memory usage: 6.0+ KB\n"
          ]
        },
        {
          "output_type": "execute_result",
          "data": {
            "text/plain": [
              "   sepal_length  sepal_width  petal_length  petal_width species\n",
              "0           5.1          3.5           1.4          0.2  setosa\n",
              "1           4.9          3.0           1.4          0.2  setosa\n",
              "2           4.7          3.2           1.3          0.2  setosa\n",
              "3           4.6          3.1           1.5          0.2  setosa\n",
              "4           5.0          3.6           1.4          0.2  setosa"
            ],
            "text/html": [
              "\n",
              "  <div id=\"df-3b30ddd3-070c-4acf-bdcf-b32db9341609\" class=\"colab-df-container\">\n",
              "    <div>\n",
              "<style scoped>\n",
              "    .dataframe tbody tr th:only-of-type {\n",
              "        vertical-align: middle;\n",
              "    }\n",
              "\n",
              "    .dataframe tbody tr th {\n",
              "        vertical-align: top;\n",
              "    }\n",
              "\n",
              "    .dataframe thead th {\n",
              "        text-align: right;\n",
              "    }\n",
              "</style>\n",
              "<table border=\"1\" class=\"dataframe\">\n",
              "  <thead>\n",
              "    <tr style=\"text-align: right;\">\n",
              "      <th></th>\n",
              "      <th>sepal_length</th>\n",
              "      <th>sepal_width</th>\n",
              "      <th>petal_length</th>\n",
              "      <th>petal_width</th>\n",
              "      <th>species</th>\n",
              "    </tr>\n",
              "  </thead>\n",
              "  <tbody>\n",
              "    <tr>\n",
              "      <th>0</th>\n",
              "      <td>5.1</td>\n",
              "      <td>3.5</td>\n",
              "      <td>1.4</td>\n",
              "      <td>0.2</td>\n",
              "      <td>setosa</td>\n",
              "    </tr>\n",
              "    <tr>\n",
              "      <th>1</th>\n",
              "      <td>4.9</td>\n",
              "      <td>3.0</td>\n",
              "      <td>1.4</td>\n",
              "      <td>0.2</td>\n",
              "      <td>setosa</td>\n",
              "    </tr>\n",
              "    <tr>\n",
              "      <th>2</th>\n",
              "      <td>4.7</td>\n",
              "      <td>3.2</td>\n",
              "      <td>1.3</td>\n",
              "      <td>0.2</td>\n",
              "      <td>setosa</td>\n",
              "    </tr>\n",
              "    <tr>\n",
              "      <th>3</th>\n",
              "      <td>4.6</td>\n",
              "      <td>3.1</td>\n",
              "      <td>1.5</td>\n",
              "      <td>0.2</td>\n",
              "      <td>setosa</td>\n",
              "    </tr>\n",
              "    <tr>\n",
              "      <th>4</th>\n",
              "      <td>5.0</td>\n",
              "      <td>3.6</td>\n",
              "      <td>1.4</td>\n",
              "      <td>0.2</td>\n",
              "      <td>setosa</td>\n",
              "    </tr>\n",
              "  </tbody>\n",
              "</table>\n",
              "</div>\n",
              "    <div class=\"colab-df-buttons\">\n",
              "\n",
              "  <div class=\"colab-df-container\">\n",
              "    <button class=\"colab-df-convert\" onclick=\"convertToInteractive('df-3b30ddd3-070c-4acf-bdcf-b32db9341609')\"\n",
              "            title=\"Convert this dataframe to an interactive table.\"\n",
              "            style=\"display:none;\">\n",
              "\n",
              "  <svg xmlns=\"http://www.w3.org/2000/svg\" height=\"24px\" viewBox=\"0 -960 960 960\">\n",
              "    <path d=\"M120-120v-720h720v720H120Zm60-500h600v-160H180v160Zm220 220h160v-160H400v160Zm0 220h160v-160H400v160ZM180-400h160v-160H180v160Zm440 0h160v-160H620v160ZM180-180h160v-160H180v160Zm440 0h160v-160H620v160Z\"/>\n",
              "  </svg>\n",
              "    </button>\n",
              "\n",
              "  <style>\n",
              "    .colab-df-container {\n",
              "      display:flex;\n",
              "      gap: 12px;\n",
              "    }\n",
              "\n",
              "    .colab-df-convert {\n",
              "      background-color: #E8F0FE;\n",
              "      border: none;\n",
              "      border-radius: 50%;\n",
              "      cursor: pointer;\n",
              "      display: none;\n",
              "      fill: #1967D2;\n",
              "      height: 32px;\n",
              "      padding: 0 0 0 0;\n",
              "      width: 32px;\n",
              "    }\n",
              "\n",
              "    .colab-df-convert:hover {\n",
              "      background-color: #E2EBFA;\n",
              "      box-shadow: 0px 1px 2px rgba(60, 64, 67, 0.3), 0px 1px 3px 1px rgba(60, 64, 67, 0.15);\n",
              "      fill: #174EA6;\n",
              "    }\n",
              "\n",
              "    .colab-df-buttons div {\n",
              "      margin-bottom: 4px;\n",
              "    }\n",
              "\n",
              "    [theme=dark] .colab-df-convert {\n",
              "      background-color: #3B4455;\n",
              "      fill: #D2E3FC;\n",
              "    }\n",
              "\n",
              "    [theme=dark] .colab-df-convert:hover {\n",
              "      background-color: #434B5C;\n",
              "      box-shadow: 0px 1px 3px 1px rgba(0, 0, 0, 0.15);\n",
              "      filter: drop-shadow(0px 1px 2px rgba(0, 0, 0, 0.3));\n",
              "      fill: #FFFFFF;\n",
              "    }\n",
              "  </style>\n",
              "\n",
              "    <script>\n",
              "      const buttonEl =\n",
              "        document.querySelector('#df-3b30ddd3-070c-4acf-bdcf-b32db9341609 button.colab-df-convert');\n",
              "      buttonEl.style.display =\n",
              "        google.colab.kernel.accessAllowed ? 'block' : 'none';\n",
              "\n",
              "      async function convertToInteractive(key) {\n",
              "        const element = document.querySelector('#df-3b30ddd3-070c-4acf-bdcf-b32db9341609');\n",
              "        const dataTable =\n",
              "          await google.colab.kernel.invokeFunction('convertToInteractive',\n",
              "                                                    [key], {});\n",
              "        if (!dataTable) return;\n",
              "\n",
              "        const docLinkHtml = 'Like what you see? Visit the ' +\n",
              "          '<a target=\"_blank\" href=https://colab.research.google.com/notebooks/data_table.ipynb>data table notebook</a>'\n",
              "          + ' to learn more about interactive tables.';\n",
              "        element.innerHTML = '';\n",
              "        dataTable['output_type'] = 'display_data';\n",
              "        await google.colab.output.renderOutput(dataTable, element);\n",
              "        const docLink = document.createElement('div');\n",
              "        docLink.innerHTML = docLinkHtml;\n",
              "        element.appendChild(docLink);\n",
              "      }\n",
              "    </script>\n",
              "  </div>\n",
              "\n",
              "\n",
              "<div id=\"df-015f0417-cbe7-4efe-a88c-14f2ec02e763\">\n",
              "  <button class=\"colab-df-quickchart\" onclick=\"quickchart('df-015f0417-cbe7-4efe-a88c-14f2ec02e763')\"\n",
              "            title=\"Suggest charts\"\n",
              "            style=\"display:none;\">\n",
              "\n",
              "<svg xmlns=\"http://www.w3.org/2000/svg\" height=\"24px\"viewBox=\"0 0 24 24\"\n",
              "     width=\"24px\">\n",
              "    <g>\n",
              "        <path d=\"M19 3H5c-1.1 0-2 .9-2 2v14c0 1.1.9 2 2 2h14c1.1 0 2-.9 2-2V5c0-1.1-.9-2-2-2zM9 17H7v-7h2v7zm4 0h-2V7h2v10zm4 0h-2v-4h2v4z\"/>\n",
              "    </g>\n",
              "</svg>\n",
              "  </button>\n",
              "\n",
              "<style>\n",
              "  .colab-df-quickchart {\n",
              "      --bg-color: #E8F0FE;\n",
              "      --fill-color: #1967D2;\n",
              "      --hover-bg-color: #E2EBFA;\n",
              "      --hover-fill-color: #174EA6;\n",
              "      --disabled-fill-color: #AAA;\n",
              "      --disabled-bg-color: #DDD;\n",
              "  }\n",
              "\n",
              "  [theme=dark] .colab-df-quickchart {\n",
              "      --bg-color: #3B4455;\n",
              "      --fill-color: #D2E3FC;\n",
              "      --hover-bg-color: #434B5C;\n",
              "      --hover-fill-color: #FFFFFF;\n",
              "      --disabled-bg-color: #3B4455;\n",
              "      --disabled-fill-color: #666;\n",
              "  }\n",
              "\n",
              "  .colab-df-quickchart {\n",
              "    background-color: var(--bg-color);\n",
              "    border: none;\n",
              "    border-radius: 50%;\n",
              "    cursor: pointer;\n",
              "    display: none;\n",
              "    fill: var(--fill-color);\n",
              "    height: 32px;\n",
              "    padding: 0;\n",
              "    width: 32px;\n",
              "  }\n",
              "\n",
              "  .colab-df-quickchart:hover {\n",
              "    background-color: var(--hover-bg-color);\n",
              "    box-shadow: 0 1px 2px rgba(60, 64, 67, 0.3), 0 1px 3px 1px rgba(60, 64, 67, 0.15);\n",
              "    fill: var(--button-hover-fill-color);\n",
              "  }\n",
              "\n",
              "  .colab-df-quickchart-complete:disabled,\n",
              "  .colab-df-quickchart-complete:disabled:hover {\n",
              "    background-color: var(--disabled-bg-color);\n",
              "    fill: var(--disabled-fill-color);\n",
              "    box-shadow: none;\n",
              "  }\n",
              "\n",
              "  .colab-df-spinner {\n",
              "    border: 2px solid var(--fill-color);\n",
              "    border-color: transparent;\n",
              "    border-bottom-color: var(--fill-color);\n",
              "    animation:\n",
              "      spin 1s steps(1) infinite;\n",
              "  }\n",
              "\n",
              "  @keyframes spin {\n",
              "    0% {\n",
              "      border-color: transparent;\n",
              "      border-bottom-color: var(--fill-color);\n",
              "      border-left-color: var(--fill-color);\n",
              "    }\n",
              "    20% {\n",
              "      border-color: transparent;\n",
              "      border-left-color: var(--fill-color);\n",
              "      border-top-color: var(--fill-color);\n",
              "    }\n",
              "    30% {\n",
              "      border-color: transparent;\n",
              "      border-left-color: var(--fill-color);\n",
              "      border-top-color: var(--fill-color);\n",
              "      border-right-color: var(--fill-color);\n",
              "    }\n",
              "    40% {\n",
              "      border-color: transparent;\n",
              "      border-right-color: var(--fill-color);\n",
              "      border-top-color: var(--fill-color);\n",
              "    }\n",
              "    60% {\n",
              "      border-color: transparent;\n",
              "      border-right-color: var(--fill-color);\n",
              "    }\n",
              "    80% {\n",
              "      border-color: transparent;\n",
              "      border-right-color: var(--fill-color);\n",
              "      border-bottom-color: var(--fill-color);\n",
              "    }\n",
              "    90% {\n",
              "      border-color: transparent;\n",
              "      border-bottom-color: var(--fill-color);\n",
              "    }\n",
              "  }\n",
              "</style>\n",
              "\n",
              "  <script>\n",
              "    async function quickchart(key) {\n",
              "      const quickchartButtonEl =\n",
              "        document.querySelector('#' + key + ' button');\n",
              "      quickchartButtonEl.disabled = true;  // To prevent multiple clicks.\n",
              "      quickchartButtonEl.classList.add('colab-df-spinner');\n",
              "      try {\n",
              "        const charts = await google.colab.kernel.invokeFunction(\n",
              "            'suggestCharts', [key], {});\n",
              "      } catch (error) {\n",
              "        console.error('Error during call to suggestCharts:', error);\n",
              "      }\n",
              "      quickchartButtonEl.classList.remove('colab-df-spinner');\n",
              "      quickchartButtonEl.classList.add('colab-df-quickchart-complete');\n",
              "    }\n",
              "    (() => {\n",
              "      let quickchartButtonEl =\n",
              "        document.querySelector('#df-015f0417-cbe7-4efe-a88c-14f2ec02e763 button');\n",
              "      quickchartButtonEl.style.display =\n",
              "        google.colab.kernel.accessAllowed ? 'block' : 'none';\n",
              "    })();\n",
              "  </script>\n",
              "</div>\n",
              "    </div>\n",
              "  </div>\n"
            ],
            "application/vnd.google.colaboratory.intrinsic+json": {
              "type": "dataframe",
              "variable_name": "iris_df",
              "summary": "{\n  \"name\": \"iris_df\",\n  \"rows\": 150,\n  \"fields\": [\n    {\n      \"column\": \"sepal_length\",\n      \"properties\": {\n        \"dtype\": \"number\",\n        \"std\": 0.828066127977863,\n        \"min\": 4.3,\n        \"max\": 7.9,\n        \"num_unique_values\": 35,\n        \"samples\": [\n          6.2,\n          4.5,\n          5.6\n        ],\n        \"semantic_type\": \"\",\n        \"description\": \"\"\n      }\n    },\n    {\n      \"column\": \"sepal_width\",\n      \"properties\": {\n        \"dtype\": \"number\",\n        \"std\": 0.4358662849366982,\n        \"min\": 2.0,\n        \"max\": 4.4,\n        \"num_unique_values\": 23,\n        \"samples\": [\n          2.3,\n          4.0,\n          3.5\n        ],\n        \"semantic_type\": \"\",\n        \"description\": \"\"\n      }\n    },\n    {\n      \"column\": \"petal_length\",\n      \"properties\": {\n        \"dtype\": \"number\",\n        \"std\": 1.7652982332594662,\n        \"min\": 1.0,\n        \"max\": 6.9,\n        \"num_unique_values\": 43,\n        \"samples\": [\n          6.7,\n          3.8,\n          3.7\n        ],\n        \"semantic_type\": \"\",\n        \"description\": \"\"\n      }\n    },\n    {\n      \"column\": \"petal_width\",\n      \"properties\": {\n        \"dtype\": \"number\",\n        \"std\": 0.7622376689603465,\n        \"min\": 0.1,\n        \"max\": 2.5,\n        \"num_unique_values\": 22,\n        \"samples\": [\n          0.2,\n          1.2,\n          1.3\n        ],\n        \"semantic_type\": \"\",\n        \"description\": \"\"\n      }\n    },\n    {\n      \"column\": \"species\",\n      \"properties\": {\n        \"dtype\": \"category\",\n        \"num_unique_values\": 3,\n        \"samples\": [\n          \"setosa\",\n          \"versicolor\",\n          \"virginica\"\n        ],\n        \"semantic_type\": \"\",\n        \"description\": \"\"\n      }\n    }\n  ]\n}"
            }
          },
          "metadata": {},
          "execution_count": 2
        }
      ]
    },
    {
      "cell_type": "code",
      "source": [
        "#split the dataframe into two parts, one with the input variables(X) and one with the target outpout(y)\n",
        "X = iris_df.drop([\"species\"], axis=1)\n",
        "y = iris_df[\"species\"]"
      ],
      "metadata": {
        "id": "TpRAtq0liqcN"
      },
      "execution_count": 3,
      "outputs": []
    },
    {
      "cell_type": "code",
      "source": [
        "from sklearn.model_selection import train_test_split"
      ],
      "metadata": {
        "id": "felO_gve_B72"
      },
      "execution_count": 4,
      "outputs": []
    },
    {
      "cell_type": "code",
      "source": [
        "'''we split the data into train and test , we set the test_size to 30% of the data so the train data will be the 70%'''\n",
        "X_train,X_test,y_train,y_test=train_test_split(X,y,test_size=0.30, random_state=85)\n",
        "print(X_train.shape)\n",
        "print(X_test.shape)"
      ],
      "metadata": {
        "colab": {
          "base_uri": "https://localhost:8080/"
        },
        "id": "n-wTfm3L-zIu",
        "outputId": "eb4c3e11-4bdc-4909-99d9-6a9e853755c3"
      },
      "execution_count": 26,
      "outputs": [
        {
          "output_type": "stream",
          "name": "stdout",
          "text": [
            "(105, 4)\n",
            "(45, 4)\n"
          ]
        }
      ]
    },
    {
      "cell_type": "code",
      "source": [
        "'''\n",
        "Perform 3 different models on default parametres and check which one has the best accuracy\n",
        "'''\n",
        "\n",
        "from sklearn.linear_model import LogisticRegression\n",
        "#Logistic Regression\n",
        "log_reg = LogisticRegression()\n",
        "log_reg.fit(X_train, y_train)\n",
        "log_pred = log_reg.predict(X_test)\n",
        "print(f'Accuracy with Logistic Regression is {round((metrics.accuracy_score(y_test, log_pred) * 100),2)}')\n",
        "\n",
        "#DecisionTreeClassifier\n",
        "from sklearn.tree import  DecisionTreeClassifier\n",
        "decis_class = DecisionTreeClassifier()\n",
        "decis_class.fit(X_train, y_train)\n",
        "decis_class_pred = decis_class.predict(X_test)\n",
        "print(f'Accuracy with Decision Tree Classifier is {round((metrics.accuracy_score(y_test, decis_class_pred) * 100),2)}')\n",
        "\n",
        "#KNeighborsClassifier\n",
        "from sklearn.neighbors import KNeighborsClassifier\n",
        "k_clas = KNeighborsClassifier()\n",
        "k_clas.fit(X_train, y_train)\n",
        "k_neighbors_pred = k_clas.predict(X_test)\n",
        "print(f'Accuracy with KNeighbors Classifier is {round((metrics.accuracy_score(y_test, k_neighbors_pred) * 100),2)}')"
      ],
      "metadata": {
        "colab": {
          "base_uri": "https://localhost:8080/"
        },
        "id": "4pZjsaXNqXrt",
        "outputId": "a4d5bde4-f6fe-4123-b1c1-9e1504e2cf7d"
      },
      "execution_count": 27,
      "outputs": [
        {
          "output_type": "stream",
          "name": "stdout",
          "text": [
            "Accuracy with Logistic Regression is 93.33\n",
            "Accuracy with Decision Tree Classifier is 93.33\n",
            "Accuracy with KNeighbors Classifier is 95.56\n"
          ]
        }
      ]
    },
    {
      "cell_type": "code",
      "source": [
        "'''\n",
        "The  KNeighborsClassifier model has the best accuracy so we gonna test for which value of n_neighbors it has the best crossval_score\n",
        "'''\n",
        "from sklearn.metrics import accuracy_score\n",
        "from sklearn.model_selection import cross_val_score\n",
        "\n",
        "k_values = [i for i in range (1,21)]\n",
        "val_scores = []\n",
        "accuracies=[]\n",
        "\n",
        "\n",
        "for k in k_values:\n",
        "    knn = KNeighborsClassifier(n_neighbors=k)  # make a new model\n",
        "    knn.fit(X_train.values,y_train)  #fit the values on the model\n",
        "    y_pred = knn.predict(X_test)  #predict the outcome\n",
        "    val_score =  cross_val_score(knn, X, y, cv=5)  # export the cross_val_scores\n",
        "    val_scores.append(np.mean(val_score))  #store the scores\n",
        "    accuracy = accuracy_score(y_test,y_pred) #export the accuracy of the model\n",
        "    accuracies.append(accuracy) #store the accuracy for visualization\n",
        "    print(f'for n_neighbors={k}, cross_val_score={round(np.mean(val_score),3)} Accuracy:{round(accuracy*100)}%') #print the results\n",
        "\n",
        "\n",
        "#visualise the score results\n",
        "sns.lineplot(x = k_values, y = val_scores, marker = 'o',label ='val score' )\n",
        "sns.lineplot(x = k_values, y = accuracies, marker = 'x',label ='accuracy')\n",
        "plt.xlabel(\"K Values\")\n",
        "plt.ylabel(\"cross_val_score\")\n",
        "plt.ylim((0.9,1))\n",
        "plt.xlim((0,21))\n",
        "plt.xticks([1,2,3,4,5,6,7,8,9,10,11,12,13,14,15,16,17,18,19,20])\n",
        "\n",
        "plt.legend()\n",
        "plt.show()\n",
        ""
      ],
      "metadata": {
        "colab": {
          "base_uri": "https://localhost:8080/",
          "height": 802
        },
        "id": "wKo59u77MCyk",
        "outputId": "0bba20bc-bdfa-465a-d5d9-c42ca4f2c11f"
      },
      "execution_count": 76,
      "outputs": [
        {
          "output_type": "stream",
          "name": "stdout",
          "text": [
            "for n_neighbors=1, cross_val_score=0.96 Accuracy:96%\n",
            "for n_neighbors=2, cross_val_score=0.947 Accuracy:96%\n",
            "for n_neighbors=3, cross_val_score=0.967 Accuracy:96%\n",
            "for n_neighbors=4, cross_val_score=0.973 Accuracy:93%\n",
            "for n_neighbors=5, cross_val_score=0.973 Accuracy:96%\n",
            "for n_neighbors=6, cross_val_score=0.98 Accuracy:96%\n",
            "for n_neighbors=7, cross_val_score=0.98 Accuracy:98%\n",
            "for n_neighbors=8, cross_val_score=0.967 Accuracy:100%\n",
            "for n_neighbors=9, cross_val_score=0.973 Accuracy:98%\n",
            "for n_neighbors=10, cross_val_score=0.98 Accuracy:100%\n",
            "for n_neighbors=11, cross_val_score=0.98 Accuracy:98%\n",
            "for n_neighbors=12, cross_val_score=0.98 Accuracy:98%\n",
            "for n_neighbors=13, cross_val_score=0.973 Accuracy:96%\n",
            "for n_neighbors=14, cross_val_score=0.967 Accuracy:98%\n",
            "for n_neighbors=15, cross_val_score=0.967 Accuracy:98%\n",
            "for n_neighbors=16, cross_val_score=0.967 Accuracy:100%\n",
            "for n_neighbors=17, cross_val_score=0.967 Accuracy:98%\n",
            "for n_neighbors=18, cross_val_score=0.967 Accuracy:100%\n",
            "for n_neighbors=19, cross_val_score=0.967 Accuracy:100%\n",
            "for n_neighbors=20, cross_val_score=0.96 Accuracy:100%\n"
          ]
        },
        {
          "output_type": "display_data",
          "data": {
            "text/plain": [
              "<Figure size 640x480 with 1 Axes>"
            ],
            "image/png": "[encoded data removed]"
          },
          "metadata": {}
        }
      ]
    },
    {
      "cell_type": "markdown",
      "source": [
        "Based on the results, we'll select** k=7**. It achieves the same cross-validation score as **k=6** but has a slightly higher test set accuracy. We generally avoid models with 100% accuracy on the test set, as this could indicate overfitting. **k=7** provides a good balance between cross-validation performance and test set accuracy, suggesting better generalization capabilities.\""
      ],
      "metadata": {
        "id": "bspG6I_TeD50"
      }
    },
    {
      "cell_type": "code",
      "source": [
        "## Train the kNN model with k=6 neighbors\n",
        "knn1 = KNeighborsClassifier(n_neighbors= 7 )\n",
        "knn1.fit(X_train, y_train)\n",
        "\n",
        "y_pred = knn1.predict(X_test)\n",
        "\n",
        "# Evaluate the model using appropriate metrics\n",
        "'''With average='micro',  precision/recall is computed for each class and then the average is taken'''\n",
        "accuracy = metrics.accuracy_score(y_test, y_pred) # the ratio of correctly predicted instances to the total number of instances:\n",
        "precision = metrics.precision_score(y_test, y_pred,average=\"macro\") #Proportion of positive predictions that were actually correct (out of all predicted positives)\n",
        "recall = metrics.recall_score(y_test, y_pred,average='macro') #Proportion of actual positive cases the model identified correctly (out of all actual positives)\n",
        "F1 = metrics.f1_score(y_test, y_pred, average='macro') # f1_score = 2 * (Precision * Recall) / (Precision + Recall)\n",
        "\n",
        "#print results\n",
        "print(\"Accuracy:\", accuracy)\n",
        "print(\"Precision:\", precision)\n",
        "print(\"Recall:\", recall)\n",
        "print(\"f1 score:\", F1)"
      ],
      "metadata": {
        "colab": {
          "base_uri": "https://localhost:8080/"
        },
        "id": "XENjzDIlM9v6",
        "outputId": "f3f25901-8726-41ce-f38c-4a19d87517ac"
      },
      "execution_count": 77,
      "outputs": [
        {
          "output_type": "stream",
          "name": "stdout",
          "text": [
            "Accuracy: 0.9777777777777777\n",
            "Precision: 0.9761904761904763\n",
            "Recall: 0.9722222222222222\n",
            "f1 score: 0.9731615673644659\n"
          ]
        }
      ]
    },
    {
      "cell_type": "code",
      "source": [
        "#build the confusion matrix for our predictions and visualise the results\n",
        "mcm = metrics.confusion_matrix(y_test, y_pred)\n",
        "disp = metrics.ConfusionMatrixDisplay(mcm,display_labels=iris_df.species.unique())\n",
        "disp.plot()\n",
        "disp.im_.colorbar.remove()\n",
        "print(disp.confusion_matrix)"
      ],
      "metadata": {
        "colab": {
          "base_uri": "https://localhost:8080/",
          "height": 501
        },
        "id": "PlxpFjrTOuwR",
        "outputId": "59a8befe-ea69-4e82-ee70-469dcd62fb66"
      },
      "execution_count": 79,
      "outputs": [
        {
          "output_type": "stream",
          "name": "stdout",
          "text": [
            "[[20  0  0]\n",
            " [ 0 11  1]\n",
            " [ 0  0 13]]\n"
          ]
        },
        {
          "output_type": "display_data",
          "data": {
            "text/plain": [
              "<Figure size 640x480 with 1 Axes>"
            ],
            "image/png": "[encoded data removed]"
          },
          "metadata": {}
        }
      ]
    },
    {
      "cell_type": "code",
      "source": [
        "#one sample for every spiece\n",
        "print(f'{iris_df.loc[1]}\\n{iris_df.loc[66]}\\n{iris_df.loc[141]}')"
      ],
      "metadata": {
        "colab": {
          "base_uri": "https://localhost:8080/"
        },
        "id": "wRJ834Z2og2a",
        "outputId": "8a8a42a9-32ab-4aad-d281-8b0ec97464bf"
      },
      "execution_count": 80,
      "outputs": [
        {
          "output_type": "stream",
          "name": "stdout",
          "text": [
            "sepal_length       4.9\n",
            "sepal_width        3.0\n",
            "petal_length       1.4\n",
            "petal_width        0.2\n",
            "species         setosa\n",
            "Name: 1, dtype: object\n",
            "sepal_length           5.6\n",
            "sepal_width            3.0\n",
            "petal_length           4.5\n",
            "petal_width            1.5\n",
            "species         versicolor\n",
            "Name: 66, dtype: object\n",
            "sepal_length          6.9\n",
            "sepal_width           3.1\n",
            "petal_length          5.1\n",
            "petal_width           2.3\n",
            "species         virginica\n",
            "Name: 141, dtype: object\n"
          ]
        }
      ]
    },
    {
      "cell_type": "code",
      "source": [
        "#testing the model with samples from the dataframe\n",
        "testing_from_df =[[4.9, 3.0, 1.4,\t0.2], [5.6, 3.0, 4.5, 1.5], [6.9, 3.1, 5.1, 2.3]]\n",
        "predictions_from_df = knn.predict(testing_from_df)\n",
        "print(f'predictions {predictions_from_df}')"
      ],
      "metadata": {
        "colab": {
          "base_uri": "https://localhost:8080/"
        },
        "id": "4YEHAOm0B10m",
        "outputId": "33dcafa3-03ca-4378-f9d0-992846e6520a"
      },
      "execution_count": 82,
      "outputs": [
        {
          "output_type": "stream",
          "name": "stdout",
          "text": [
            "predictions ['setosa' 'versicolor' 'virginica']\n"
          ]
        }
      ]
    },
    {
      "cell_type": "code",
      "source": [
        "'''let's use our model to predict the species for flowers with random characteristics'''\n",
        "#first we will find the min and max values for every characteristic (collumns in X) and store them in a list\n",
        "min_list=[]\n",
        "max_list=[]\n",
        "for x in X:\n",
        "  min_x = X[x].min()\n",
        "  min_list.append(min_x)\n",
        "  max_x= X[x].max()\n",
        "  max_list.append(max_x)\n",
        "  print(f'{x}_min = {min_x} \\t {x}_max={max_x}')"
      ],
      "metadata": {
        "colab": {
          "base_uri": "https://localhost:8080/"
        },
        "id": "g58BtZQS93uV",
        "outputId": "a3db4e72-bc36-4aa9-c20f-ebc4a449a979"
      },
      "execution_count": 83,
      "outputs": [
        {
          "output_type": "stream",
          "name": "stdout",
          "text": [
            "sepal_length_min = 4.3 \t sepal_length_max=7.9\n",
            "sepal_width_min = 2.0 \t sepal_width_max=4.4\n",
            "petal_length_min = 1.0 \t petal_length_max=6.9\n",
            "petal_width_min = 0.1 \t petal_width_max=2.5\n"
          ]
        }
      ]
    },
    {
      "cell_type": "code",
      "source": [
        "#in the second step we create 4 lists for every characteristic with random numbers in the range of our min and max lists from the previous step, with 1 decimal point\n",
        "rand_sepal_length = np.around(np.random.uniform(min_list[0], max_list[0], size=4),1)\n",
        "rand_sepal_width = np.around(np.random.uniform(min_list[1], max_list[1], size=4),1)\n",
        "rand_petal_length = np.around(np.random.uniform(min_list[2], max_list[2], size=4),1)\n",
        "rand_petal_width = np.around(np.random.uniform(min_list[3], max_list[3], size=4),1)\n",
        "print(\"rand_sepal_length:\",rand_sepal_length)\n",
        "print(\"rand_sepal_width:\", rand_sepal_width)\n",
        "print(\"rand_petal_length:\",rand_petal_length)\n",
        "print(\"rand_petal_width:\", rand_petal_width)\n",
        "\n",
        "# Create a final list containing sample data\n",
        "# This list will have four sub-lists, each representing a sample\n",
        "# Each sample sub-list will have one value for each characteristic\n",
        "\n",
        "testing_with_random=[]\n",
        "i=0\n",
        "while i<4:\n",
        "  test=[rand_sepal_length[i], rand_sepal_width[i], rand_petal_length[i], rand_petal_width[i]]\n",
        "  i+=1\n",
        "  testing_with_random.append(test)\n",
        "print(testing_with_random)"
      ],
      "metadata": {
        "colab": {
          "base_uri": "https://localhost:8080/"
        },
        "id": "qKR1HpeebT7a",
        "outputId": "dee5f56b-6d05-43c4-8e85-d1c5efc014ac"
      },
      "execution_count": 91,
      "outputs": [
        {
          "output_type": "stream",
          "name": "stdout",
          "text": [
            "rand_sepal_length: [5.1 6.  6.  5.6]\n",
            "rand_sepal_width: [2.1 2.4 2.8 2.6]\n",
            "rand_petal_length: [4.1 3.7 2.2 6.5]\n",
            "rand_petal_width: [0.8 0.6 1.3 0.2]\n",
            "[[5.1, 2.1, 4.1, 0.8], [6.0, 2.4, 3.7, 0.6], [6.0, 2.8, 2.2, 1.3], [5.6, 2.6, 6.5, 0.2]]\n"
          ]
        }
      ]
    },
    {
      "cell_type": "code",
      "source": [
        "#testing the model with the random numbers\n",
        "predictions_from_df = knn.predict(testing_with_random)\n",
        "print(f'predictions {predictions_from_df}')"
      ],
      "metadata": {
        "colab": {
          "base_uri": "https://localhost:8080/"
        },
        "id": "kjd0G5-UdNRh",
        "outputId": "8dbcbc69-ed2b-49f0-a3f5-6368c2a185ea"
      },
      "execution_count": 92,
      "outputs": [
        {
          "output_type": "stream",
          "name": "stdout",
          "text": [
            "predictions ['versicolor' 'versicolor' 'setosa' 'virginica']\n"
          ]
        }
      ]
    }
  ]
}